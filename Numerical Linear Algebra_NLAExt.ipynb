{
 "cells": [
  {
   "cell_type": "markdown",
   "id": "structured-request",
   "metadata": {},
   "source": [
    "# NUMERICAL LINEAR ALGEBRA \n",
    "\n",
    "\n",
    "### Question 1:\n",
    "In many situations, the way the problem is set up caN have significant effect on susceptibility to round error when we apply standards methods. But fortunately, the are often ways to minimize those effects. For instance, suppose we want to fit a line for the following data\n",
    "\n",
    "$$\n",
    "\\begin{aligned}\n",
    "&\\begin{array}{|c|c|c|c|c|c|c|c|c|c|c|}\n",
    "\\hline \\hline \n",
    "x_i & 1.02 & 0.95 & 0.87 & 0.77 & 0.67 & 0.56 & 0.44 & 0.30 & 0.16 & 0.01\\\\ \\hline\n",
    "y_i & 0.39 & 0.32 & 0.27 & 0.22 & 0.18 & 0.15 & 0.13 & 0.12 & 0.13 & 0.15\\\\\n",
    "\\hline\n",
    "\\end{array}\n",
    "\\end{aligned}\n",
    "$$\n",
    "\n",
    "by solving normal equation $X^T X \\begin{pmatrix}m \\\\ b\\end{pmatrix} = X^T Y$. Using python, find $1$-norm and $\\infty$-norm condition of the coefficients of the system of normal equations. Explain your results. Here $X$ is the matrix for estimating parameters $m$ and $b$ for the linear model $mx +b = y$ \n",
    "\n"
   ]
  },
  {
   "cell_type": "code",
   "execution_count": 1,
   "id": "extreme-bernard",
   "metadata": {},
   "outputs": [],
   "source": [
    "import numpy as np"
   ]
  },
  {
   "cell_type": "code",
   "execution_count": 2,
   "id": "accessory-chemical",
   "metadata": {},
   "outputs": [],
   "source": [
    "x = np.array([[1,1.02], [1,0.95],[1,0.87],[1,0.77],[1,0.67],[1,0.56],[1,0.44],[1,0.30],[1,0.16],[1,0.01]])\n",
    "y = np.array([0.39,0.32,0.27,0.22,0.18,0.15,0.13,0.12,0.13,0.15])"
   ]
  },
  {
   "cell_type": "code",
   "execution_count": 3,
   "id": "mounted-fields",
   "metadata": {},
   "outputs": [],
   "source": [
    "H = x.T@x\n",
    "G = np.linalg.inv(x.T@x)\n",
    "H_norm1 = np.linalg.norm(H,1) # norm one of xTx\n",
    "G_norm1 = np.linalg.norm(G,1) # norm one of inverse(xTx)"
   ]
  },
  {
   "cell_type": "code",
   "execution_count": 4,
   "id": "rational-jordan",
   "metadata": {},
   "outputs": [
    {
     "data": {
      "text/plain": [
       "23.440822111977315"
      ]
     },
     "execution_count": 4,
     "metadata": {},
     "output_type": "execute_result"
    }
   ],
   "source": [
    "cond_xTx = H_norm1*G_norm1 # condition number using norm one\n",
    "cond_xTx"
   ]
  },
  {
   "cell_type": "code",
   "execution_count": 5,
   "id": "annual-interference",
   "metadata": {},
   "outputs": [],
   "source": [
    "V_norm_inf = np.linalg.norm(H,np.inf) # norm infinity of xTx\n",
    "U_norm1_inf = np.linalg.norm(G,np.inf) # norm infinity of inverse(xTx)"
   ]
  },
  {
   "cell_type": "code",
   "execution_count": 6,
   "id": "built-spectacular",
   "metadata": {},
   "outputs": [
    {
     "data": {
      "text/plain": [
       "23.44082211197732"
      ]
     },
     "execution_count": 6,
     "metadata": {},
     "output_type": "execute_result"
    }
   ],
   "source": [
    "cond_xTx_inf = V_norm_inf*U_norm1_inf # condition number using norm infinity\n",
    "cond_xTx_inf"
   ]
  },
  {
   "cell_type": "markdown",
   "id": "unexpected-wholesale",
   "metadata": {},
   "source": [
    "#### The condition number of the system (using both norm-1 and norm-infinity) is small therefore the system is better-conditioned. "
   ]
  },
  {
   "cell_type": "code",
   "execution_count": 28,
   "id": "earlier-norway",
   "metadata": {},
   "outputs": [
    {
     "data": {
      "text/plain": [
       "array([2.06  , 1.4262])"
      ]
     },
     "execution_count": 28,
     "metadata": {},
     "output_type": "execute_result"
    }
   ],
   "source": [
    "m_c = x.T@y\n",
    "m_c"
   ]
  },
  {
   "cell_type": "markdown",
   "id": "sized-washer",
   "metadata": {},
   "source": [
    "### m = 2.06, c = 1.4262"
   ]
  },
  {
   "cell_type": "markdown",
   "id": "opposite-headset",
   "metadata": {},
   "source": [
    "## Question 2\n",
    "\n",
    "Solve the following systems of equations using numpy\n",
    "\n",
    "\n",
    "$$\n",
    "\\begin{eqnarray}\n",
    "A= \\begin{cases} \n",
    "2x_1 + x_2 + x_3 &= 4\\\\\n",
    "x_1 + 3x_2 + 2x_3 &= 5\\\\\n",
    "x_1 &= 6\n",
    "\\end{cases}\\qquad \\text{and} \\qquad\n",
    "B= \\begin{cases} \n",
    "4x + 3y + 2z &= 25\\\\\n",
    "-2x + 2y + 3z &= -10\\\\\n",
    "3x -5y + 2z &= 6\n",
    "\\end{cases}\n",
    "\\end{eqnarray}\n",
    "$$\n"
   ]
  },
  {
   "cell_type": "code",
   "execution_count": 8,
   "id": "smart-reproduction",
   "metadata": {},
   "outputs": [
    {
     "name": "stdout",
     "output_type": "stream",
     "text": [
      " x1 = 6.0 \n",
      " x2 =  15.000000000000007 \n",
      " x3 =  -23.000000000000007\n",
      "System 2\n",
      " x = 0.21138211382113814 \n",
      " y =  -0.27642276422764234 \n",
      " z =  1.9918699186991873\n"
     ]
    }
   ],
   "source": [
    "import numpy as np\n",
    "\n",
    "A = np.array([[2,1,1],[1,3,2],[1,0,0]])\n",
    "b = np.array([4,5,6]).T\n",
    "\n",
    "Ain = np.linalg.inv(A)\n",
    "X = Ain@b\n",
    "\n",
    "print(' x1 =',X[0], '\\n', 'x2 = ', X[1], '\\n','x3 = ', X[2])\n",
    "\n",
    "\n",
    "B = np.array([[4,3,2],[-2,2,3],[3,-5,2]])\n",
    "a = np.array([25,-10,6])\n",
    "\n",
    "Bin = np.linalg.inv(B)\n",
    "X = Bin@b\n",
    "print('System 2')\n",
    "print(' x =',X[0], '\\n', 'y = ', X[1], '\\n','z = ', X[2])"
   ]
  },
  {
   "cell_type": "markdown",
   "id": "useful-banks",
   "metadata": {},
   "source": [
    "## Question 3\n",
    "\n",
    "1. Write a python funtion <b>fun_prod</b>  that takes two matrices $A$ and $B$ and return a product $C = A \\times B$. If the product is not possible, the function should return \"<b><i>Multiplication not possible</i></b>\".\n",
    "\n",
    " <b>Do not use existing function such as $np.multiply$ or $A@B$</b>\n",
    " "
   ]
  },
  {
   "cell_type": "code",
   "execution_count": 5,
   "id": "secure-spotlight",
   "metadata": {},
   "outputs": [],
   "source": [
    "import numpy as np\n",
    "C = np.zeros((A.shape[1],B.shape[1]))\n",
    "def fun_prod(A,B):\n",
    "    if A.shape[1] != B.shape[0]:\n",
    "        print (\"dimensionality error\")\n",
    "    else:\n",
    "        for i in range(len(A)):     \n",
    "            for k in range(len(A)):\n",
    "                for j in range(B.shape[1]):\n",
    "                    C[i,j]+=A[i,k]*B[k,j]\n",
    "        return C"
   ]
  },
  {
   "cell_type": "markdown",
   "id": "worldwide-convertible",
   "metadata": {},
   "source": [
    "2. Use the function <b>fun_prod</b> to compute $C = A \\times B $ for the following matrices\n",
    "\n",
    "$$\n",
    "\\begin{eqnarray}\n",
    "    A = \\begin{pmatrix}\n",
    "    0 & 6 & -2\\\\\n",
    "    4 & -3 & 3\n",
    "    \\end{pmatrix},\\qquad\n",
    "    B = \\begin{pmatrix}\n",
    "    4 & -4\\\\\n",
    "    1 & 5\n",
    "    \\end{pmatrix}  \n",
    "\\end{eqnarray} \n",
    "$$\n",
    "And\n",
    "\n",
    "$$\n",
    "\\begin{eqnarray}\n",
    "    A = \\begin{pmatrix}\n",
    "    3 & 0 & 0\\\\\n",
    "    2 & 1 & 0\\\\\n",
    "    1 & 4 & 3\n",
    "    \\end{pmatrix},\\qquad \n",
    "    B = \\begin{pmatrix}\n",
    "    3 & 5 & 1\\\\\n",
    "    0 & 1 & 3\\\\\n",
    "    0 & 0 & 7\n",
    "    \\end{pmatrix},   \n",
    "\\end{eqnarray}\n",
    "$$"
   ]
  },
  {
   "cell_type": "code",
   "execution_count": 6,
   "id": "annual-cattle",
   "metadata": {},
   "outputs": [
    {
     "name": "stdout",
     "output_type": "stream",
     "text": [
      "dimensionality error\n"
     ]
    }
   ],
   "source": [
    "A = np.array([[0,6,-2],[4,-3,3]])\n",
    "B = np.array([[4,-4],[1,5]])\n",
    "fun_prod(A,B)"
   ]
  },
  {
   "cell_type": "code",
   "execution_count": 7,
   "id": "printable-juvenile",
   "metadata": {},
   "outputs": [
    {
     "data": {
      "text/plain": [
       "array([[ 9., 15.,  3.],\n",
       "       [ 6., 11.,  5.],\n",
       "       [ 3.,  9., 34.]])"
      ]
     },
     "execution_count": 7,
     "metadata": {},
     "output_type": "execute_result"
    }
   ],
   "source": [
    "A = np.array([[3,0,0],[2,1,0],[1,4,3]])\n",
    "B = np.array([[3,5,1],[0,1,3],[0,0,7]])\n",
    "fun_prod(A,B)"
   ]
  },
  {
   "cell_type": "code",
   "execution_count": null,
   "id": "incomplete-surgery",
   "metadata": {},
   "outputs": [],
   "source": []
  },
  {
   "cell_type": "code",
   "execution_count": null,
   "id": "latest-morocco",
   "metadata": {},
   "outputs": [],
   "source": []
  },
  {
   "cell_type": "code",
   "execution_count": null,
   "id": "hired-induction",
   "metadata": {},
   "outputs": [],
   "source": []
  }
 ],
 "metadata": {
  "kernelspec": {
   "display_name": "Python 3 (ipykernel)",
   "language": "python",
   "name": "python3"
  },
  "language_info": {
   "codemirror_mode": {
    "name": "ipython",
    "version": 3
   },
   "file_extension": ".py",
   "mimetype": "text/x-python",
   "name": "python",
   "nbconvert_exporter": "python",
   "pygments_lexer": "ipython3",
   "version": "3.9.7"
  }
 },
 "nbformat": 4,
 "nbformat_minor": 5
}
