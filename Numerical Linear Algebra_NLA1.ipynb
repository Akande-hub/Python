{
 "cells": [
  {
   "cell_type": "markdown",
   "metadata": {},
   "source": [
    "## Numerical Linear Algebra"
   ]
  },
  {
   "cell_type": "code",
   "execution_count": 4,
   "metadata": {},
   "outputs": [],
   "source": [
    "import numpy as np\n",
    "import pandas as pd"
   ]
  },
  {
   "cell_type": "markdown",
   "metadata": {},
   "source": [
    "**EXERCISE 7**   : Two point boundary value problem"
   ]
  },
  {
   "cell_type": "code",
   "execution_count": 10,
   "metadata": {},
   "outputs": [
    {
     "name": "stdout",
     "output_type": "stream",
     "text": [
      "The Max absolute error for 0.1 is 4.414591465018436e-05\n",
      "The Max absolute error for 0.05 is 1.1046891149224525e-05\n",
      "The Max absolute error for 0.025 is 2.7623745186833304e-06\n",
      "The Max absolute error for 0.0125 is 6.908962369989169e-07\n"
     ]
    }
   ],
   "source": [
    "for h in list([0.1,0.05,0.025,0.0125]):\n",
    "    a = 0\n",
    "    b = 1\n",
    "    N = int(((b-a)/h) + 1)\n",
    "    t = np.linspace(a,b,N)\n",
    "    X = np.zeros((N,N))\n",
    "    Y = np.zeros(N)\n",
    "    X[0,0] = h**2\n",
    "    X[N-1,N-1] = h**2\n",
    "    Y[0] = 1\n",
    "    Y[N-1] = 0\n",
    "    for k in range (1, N-1):\n",
    "        X[k,k-1] = -1\n",
    "        X[k,k] = 2 + h**2\n",
    "        X[k,k+1] = -1\n",
    "        Y[k] = 1\n",
    "    A = (1/h**2)*X\n",
    "    sol = np.linalg.solve(A,Y)\n",
    "    Exact = 1 - np.sinh(t)/np.sinh(1)\n",
    "    error = max(abs(Exact - sol))\n",
    "    print('The Max absolute error for {} is {}'.format(h,error))"
   ]
  },
  {
   "cell_type": "code",
   "execution_count": null,
   "metadata": {},
   "outputs": [],
   "source": []
  },
  {
   "cell_type": "code",
   "execution_count": null,
   "metadata": {},
   "outputs": [],
   "source": []
  }
 ],
 "metadata": {
  "kernelspec": {
   "display_name": "Python 3 (ipykernel)",
   "language": "python",
   "name": "python3"
  },
  "language_info": {
   "codemirror_mode": {
    "name": "ipython",
    "version": 3
   },
   "file_extension": ".py",
   "mimetype": "text/x-python",
   "name": "python",
   "nbconvert_exporter": "python",
   "pygments_lexer": "ipython3",
   "version": "3.9.7"
  }
 },
 "nbformat": 4,
 "nbformat_minor": 2
}
