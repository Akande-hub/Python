{
 "cells": [
  {
   "cell_type": "markdown",
   "id": "97063f4e",
   "metadata": {},
   "source": [
    "# Ordinary differential Equations"
   ]
  },
  {
   "cell_type": "markdown",
   "id": "d0f2472a",
   "metadata": {},
   "source": [
    "ASSIGNEMENT 1 : October 16 2021"
   ]
  },
  {
   "cell_type": "markdown",
   "id": "ef6852f9",
   "metadata": {},
   "source": [
    "# Exercise 7"
   ]
  },
  {
   "cell_type": "markdown",
   "id": "ad54ec17",
   "metadata": {},
   "source": [
    "# Question 1"
   ]
  },
  {
   "cell_type": "markdown",
   "id": "723b72ea",
   "metadata": {},
   "source": [
    "In this question, we ask to solve the following differential equation\n",
    "\n",
    "\\begin{equation}\n",
    "y''+5y'-6y=0\n",
    "\\end{equation}\n",
    "This equation is a linear homogeneous differential equation of the second order with constant coefficient. To solve it, we need to pass by the characteristic equation which is given by\n",
    "\n",
    "\\begin{equation}\n",
    "\\lambda^2 +5 \\lambda -6=0\n",
    "\\end{equation}\n",
    "The goal is now to find the roots of this quadratic equation, so the first step is to find the discriminant of this equation\n",
    "\\begin{equation}\n",
    "\\Delta = 5^2+4\\times 6 = 49\n",
    "\\end{equation}\n",
    "as this discriminant is positive, so the characteristic polynomial has two distinct roots $\\lambda_1$ and $\\lambda_2$ and the solution of differential equation will be in general form below\n",
    "\\begin{equation}\n",
    "y_h=c_1 e^{\\lambda_1x}+c_2 e^{\\lambda_2x}\n",
    "\\end{equation}\n",
    "And back to our case we find \n",
    "\\begin{equation}\n",
    "\\begin{cases}\n",
    "\\lambda_1 = \\frac{-5-7}{2}=-6\\\\\n",
    "\\lambda_2 = \\frac{-5+7}{2}=1\n",
    "\\end{cases}\n",
    "\\end{equation}\n",
    "So the general solution of the differential equation is \n",
    "\n",
    "\\begin{equation}\n",
    "\\label{Eqh}\n",
    "y_h=c_1 e^{-6x}+c_2 e^{x}\n",
    "\\end{equation}\n",
    "To find the constants $c_1$ and $c_2$, we have to look to the initial conditions given by\n",
    "\\begin{equation}\n",
    "y(0)=2 \\;\\;and\\;\\;\n",
    "y'(0)=3\n",
    "\\end{equation}\n",
    "Knowing the general homogeneous solution $y_h$ we can find \n",
    "\\begin{equation}\n",
    "y'_h=-6c_1 e^{-6x}+c_2 e^{x}\n",
    "\\end{equation}\n",
    "Putting $x=0$ in the expression of $y_h$ and $y'_h$, then the initial conditions lead to\n",
    "\\begin{equation}\n",
    "\\begin{cases}\n",
    "c_1 +c_2 = 2\\\\\n",
    "-6c_1+c_2 =3\n",
    "\\end{cases}\n",
    "\\end{equation}\n",
    "By solving this system of equations we find $c_1 =-\\frac{1}{7}$ and $c_2 =\\frac{15}{7}$\n",
    "Therefore the final solution of the differential equation is \n",
    "\\begin{equation}\n",
    "y_h=-\\frac{1}{7}e^{-6x}+\\frac{15}{7}e^{x}\n",
    "\\end{equation}\n"
   ]
  },
  {
   "cell_type": "markdown",
   "id": "4db77dc0",
   "metadata": {},
   "source": [
    "# Question 2"
   ]
  },
  {
   "cell_type": "code",
   "execution_count": null,
   "id": "virtual-authorization",
   "metadata": {},
   "outputs": [],
   "source": [
    "from scipy.integrate import odeint\n",
    "import numpy as np\n",
    "import matplotlib.pyplot as plt"
   ]
  },
  {
   "cell_type": "markdown",
   "id": "c188df5c",
   "metadata": {},
   "source": [
    "The differential equation has been transformed in a system of two differential equation of first order\n",
    "\n",
    "\n",
    "\\begin{equation}\n",
    "\\begin{cases}\n",
    "z_1'=-5z_1+6z_0\\\\\n",
    "z_0'=z_1\n",
    "\\end{cases}\n",
    "\\end{equation}\n"
   ]
  },
  {
   "cell_type": "code",
   "execution_count": null,
   "id": "51bf6b03",
   "metadata": {},
   "outputs": [],
   "source": [
    "#Definition of the function\n",
    "\n",
    "def fc(z,x):\n",
    "    dz1=-5*z[1]+6*z[0]\n",
    "    dz0=z[1]\n",
    "    dz=np.array([dz0,dz1])\n",
    "    return dz\n",
    "\n",
    "#Initial conditions and parameters \n",
    "\n",
    "z0=[2,3]\n",
    "a=0\n",
    "b=1\n",
    "N=1000\n",
    "x=np.linspace(a,b,N)\n"
   ]
  },
  {
   "cell_type": "markdown",
   "id": "4b26923a",
   "metadata": {},
   "source": [
    "Here we present the code for the Runge-Kutta Method"
   ]
  },
  {
   "cell_type": "code",
   "execution_count": null,
   "id": "cd4080a7",
   "metadata": {},
   "outputs": [],
   "source": [
    "def RK4OdeSys(f,c,x):\n",
    "    Z=np.zeros([len(x),len(c)])\n",
    "    Z[0]=c\n",
    "#    \n",
    "    H=x[1]-x[0]\n",
    "    for i in range(len(x)-1):\n",
    "        k1 =  f(Z[i], x[i])    \n",
    "        k2 =  f(Z[i]+H*k1/2, x[i] + H/2)\n",
    "        k3 =  f(Z[i]+H*k2/2, x[i] + H/2)\n",
    "        k4 =  f(Z[i]+H*k3, x[i] + H)\n",
    "        Z[i+1] = Z[i]+(H/6) * (k1 + 2*(k2 + k3 ) + k4)\n",
    "    return Z"
   ]
  },
  {
   "cell_type": "markdown",
   "id": "273b7125",
   "metadata": {},
   "source": [
    "Then, the solutions"
   ]
  },
  {
   "cell_type": "code",
   "execution_count": null,
   "id": "violent-keeping",
   "metadata": {
    "scrolled": true
   },
   "outputs": [],
   "source": [
    "#The solver functions\n",
    "\n",
    "yh=-(1/7)*np.exp(-6*x)+(15/7)*np.exp(x) #The exact solution\n",
    "z=odeint(fc,z0,x) # With odeint\n",
    "ZK=RK4OdeSys(fc,z0,x) "
   ]
  },
  {
   "cell_type": "markdown",
   "id": "6adb49ea",
   "metadata": {},
   "source": [
    "The plot"
   ]
  },
  {
   "cell_type": "code",
   "execution_count": null,
   "id": "eight-virtue",
   "metadata": {},
   "outputs": [],
   "source": [
    "plt.plot(x,yh,'r--',label=r'$Exact$',linewidth=6)\n",
    "plt.plot(x,z[:,0],'b-',label=r'$odeint$',linewidth=4)\n",
    "plt.plot(x,ZK[:,0],'g-',label=r'$RK4$',linewidth=3)\n",
    "plt.legend();"
   ]
  }
 ],
 "metadata": {
  "kernelspec": {
   "display_name": "Python 3 (ipykernel)",
   "language": "python",
   "name": "python3"
  },
  "language_info": {
   "codemirror_mode": {
    "name": "ipython",
    "version": 3
   },
   "file_extension": ".py",
   "mimetype": "text/x-python",
   "name": "python",
   "nbconvert_exporter": "python",
   "pygments_lexer": "ipython3",
   "version": "3.9.7"
  }
 },
 "nbformat": 4,
 "nbformat_minor": 5
}
