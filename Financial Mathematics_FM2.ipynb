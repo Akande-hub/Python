{
 "cells": [
  {
   "cell_type": "markdown",
   "id": "b0910093",
   "metadata": {},
   "source": [
    "## Financial Mathematics"
   ]
  },
  {
   "cell_type": "markdown",
   "id": "e0eb4748",
   "metadata": {},
   "source": [
    "# Question 1"
   ]
  },
  {
   "cell_type": "code",
   "execution_count": 12,
   "id": "d7172344",
   "metadata": {},
   "outputs": [
    {
     "data": {
      "image/png": "[encoded data removed]",
      "text/plain": [
       "<Figure size 432x288 with 1 Axes>"
      ]
     },
     "metadata": {
      "needs_background": "light"
     },
     "output_type": "display_data"
    }
   ],
   "source": [
    "import matplotlib.pyplot as plt\n",
    "sig2 = lambda r: (1/400)*np.sqrt(210000*(r**2)-42000*r+2356)\n",
    "rbar = lambda l: 0.18-0.08*l\n",
    "X = rbar(np.linspace(0,1,100))\n",
    "Y = sig2(X)\n",
    "\n",
    "plt.plot(Y,X)\n",
    "plt.show()"
   ]
  },
  {
   "cell_type": "markdown",
   "id": "5f1eb151",
   "metadata": {},
   "source": [
    "# Question 4(b)"
   ]
  },
  {
   "cell_type": "code",
   "execution_count": 13,
   "id": "1b72ce5e",
   "metadata": {},
   "outputs": [
    {
     "name": "stdout",
     "output_type": "stream",
     "text": [
      "mean: $0.00141\n",
      "Variance: $0.00064\n",
      "Value-at-Risk: $40.29\n"
     ]
    }
   ],
   "source": [
    "#import datetime\n",
    "import numpy as np\n",
    "from pandas_datareader import data\n",
    "from scipy.stats import norm\n",
    "\n",
    "\"\"\"\n",
    "Variance-Covariance calculation of daily Value-at-Risk\n",
    "using confidence level c, with mean of returns mu\n",
    "and standard deviation of returns sigma, on a portfolio\n",
    "of value investiment P.\n",
    "\"\"\"\n",
    "def var_cov_var(P, c, mu, sigma):\n",
    "    alpha = norm.ppf(1-c, mu, sigma)\n",
    "    return P - P*(alpha + 1)\n",
    "\n",
    "if __name__ == \"__main__\":\n",
    "\n",
    "    netflix = data.DataReader(['NFLX'], 'yahoo', start='2018/01/01', end='2022/01/01')\n",
    "    netflix[\"rets\"] = netflix[\"Adj Close\"].pct_change()\n",
    "\n",
    "    P = 1e3   # 1,000 USD\n",
    "    c = 0.95  # 95% confidence interval\n",
    "    mu = np.mean(netflix[\"rets\"])\n",
    "    sigma = np.std(netflix[\"rets\"])\n",
    "    var = sigma**2\n",
    "    VaR = var_cov_var(P, c, mu, sigma)\n",
    "    print (\"mean: $%0.5f\" % mu)\n",
    "    print (\"Variance: $%0.5f\" % var)\n",
    "    print (\"Value-at-Risk: $%0.2f\" % VaR)"
   ]
  },
  {
   "cell_type": "code",
   "execution_count": null,
   "id": "715f3386",
   "metadata": {},
   "outputs": [],
   "source": []
  }
 ],
 "metadata": {
  "kernelspec": {
   "display_name": "Python 3 (ipykernel)",
   "language": "python",
   "name": "python3"
  },
  "language_info": {
   "codemirror_mode": {
    "name": "ipython",
    "version": 3
   },
   "file_extension": ".py",
   "mimetype": "text/x-python",
   "name": "python",
   "nbconvert_exporter": "python",
   "pygments_lexer": "ipython3",
   "version": "3.9.7"
  }
 },
 "nbformat": 4,
 "nbformat_minor": 5
}
