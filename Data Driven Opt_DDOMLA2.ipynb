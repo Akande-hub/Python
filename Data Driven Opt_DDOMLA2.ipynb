{
 "cells": [
  {
   "cell_type": "markdown",
   "metadata": {},
   "source": [
    "## DATA DRIVEN OPTIMIZATION"
   ]
  },
  {
   "cell_type": "code",
   "execution_count": 2,
   "metadata": {},
   "outputs": [],
   "source": [
    "import numpy as np\n",
    "import matplotlib.pyplot as plt\n",
    "import pandas as pd\n",
    "import seaborn as sns\n",
    "from numpy import mean,std,absolute\n",
    "from sklearn.preprocessing import PolynomialFeatures\n",
    "from sklearn import datasets, linear_model\n",
    "from sklearn.linear_model import LinearRegression,LogisticRegression,Lasso  \n",
    "from sklearn.model_selection import train_test_split,RepeatedKFold,cross_val_score \n",
    "from sklearn.metrics import confusion_matrix, accuracy_score,mean_squared_error\n",
    "import warnings\n",
    "warnings.filterwarnings('ignore')"
   ]
  },
  {
   "cell_type": "markdown",
   "metadata": {},
   "source": [
    "# Question I"
   ]
  },
  {
   "cell_type": "markdown",
   "metadata": {},
   "source": [
    "#### (a) Using the available data for 2021 for Angola, to predict the number of New_cases for November 20, 2021 and November 21, 2021 for Angola."
   ]
  },
  {
   "cell_type": "code",
   "execution_count": 6,
   "metadata": {},
   "outputs": [
    {
     "data": {
      "text/html": [
       "<div>\n",
       "<style scoped>\n",
       "    .dataframe tbody tr th:only-of-type {\n",
       "        vertical-align: middle;\n",
       "    }\n",
       "\n",
       "    .dataframe tbody tr th {\n",
       "        vertical-align: top;\n",
       "    }\n",
       "\n",
       "    .dataframe thead th {\n",
       "        text-align: right;\n",
       "    }\n",
       "</style>\n",
       "<table border=\"1\" class=\"dataframe\">\n",
       "  <thead>\n",
       "    <tr style=\"text-align: right;\">\n",
       "      <th></th>\n",
       "      <th>Country_code</th>\n",
       "      <th>Country</th>\n",
       "      <th>WHO_region</th>\n",
       "      <th>New_cases</th>\n",
       "      <th>Cumulative_cases</th>\n",
       "      <th>New_deaths</th>\n",
       "      <th>Cumulative_deaths</th>\n",
       "    </tr>\n",
       "    <tr>\n",
       "      <th>Date_reported</th>\n",
       "      <th></th>\n",
       "      <th></th>\n",
       "      <th></th>\n",
       "      <th></th>\n",
       "      <th></th>\n",
       "      <th></th>\n",
       "      <th></th>\n",
       "    </tr>\n",
       "  </thead>\n",
       "  <tbody>\n",
       "    <tr>\n",
       "      <th>2021-11-02</th>\n",
       "      <td>AO</td>\n",
       "      <td>Angola</td>\n",
       "      <td>AFRO</td>\n",
       "      <td>25</td>\n",
       "      <td>64458</td>\n",
       "      <td>3</td>\n",
       "      <td>1713</td>\n",
       "    </tr>\n",
       "    <tr>\n",
       "      <th>2021-11-03</th>\n",
       "      <td>AO</td>\n",
       "      <td>Angola</td>\n",
       "      <td>AFRO</td>\n",
       "      <td>29</td>\n",
       "      <td>64487</td>\n",
       "      <td>0</td>\n",
       "      <td>1713</td>\n",
       "    </tr>\n",
       "    <tr>\n",
       "      <th>2021-11-04</th>\n",
       "      <td>AO</td>\n",
       "      <td>Angola</td>\n",
       "      <td>AFRO</td>\n",
       "      <td>46</td>\n",
       "      <td>64533</td>\n",
       "      <td>3</td>\n",
       "      <td>1716</td>\n",
       "    </tr>\n",
       "    <tr>\n",
       "      <th>2021-11-05</th>\n",
       "      <td>AO</td>\n",
       "      <td>Angola</td>\n",
       "      <td>AFRO</td>\n",
       "      <td>50</td>\n",
       "      <td>64583</td>\n",
       "      <td>2</td>\n",
       "      <td>1718</td>\n",
       "    </tr>\n",
       "    <tr>\n",
       "      <th>2021-11-06</th>\n",
       "      <td>AO</td>\n",
       "      <td>Angola</td>\n",
       "      <td>AFRO</td>\n",
       "      <td>29</td>\n",
       "      <td>64612</td>\n",
       "      <td>1</td>\n",
       "      <td>1719</td>\n",
       "    </tr>\n",
       "    <tr>\n",
       "      <th>2021-11-07</th>\n",
       "      <td>AO</td>\n",
       "      <td>Angola</td>\n",
       "      <td>AFRO</td>\n",
       "      <td>42</td>\n",
       "      <td>64654</td>\n",
       "      <td>0</td>\n",
       "      <td>1719</td>\n",
       "    </tr>\n",
       "    <tr>\n",
       "      <th>2021-11-08</th>\n",
       "      <td>AO</td>\n",
       "      <td>Angola</td>\n",
       "      <td>AFRO</td>\n",
       "      <td>20</td>\n",
       "      <td>64674</td>\n",
       "      <td>1</td>\n",
       "      <td>1720</td>\n",
       "    </tr>\n",
       "    <tr>\n",
       "      <th>2021-11-09</th>\n",
       "      <td>AO</td>\n",
       "      <td>Angola</td>\n",
       "      <td>AFRO</td>\n",
       "      <td>50</td>\n",
       "      <td>64724</td>\n",
       "      <td>1</td>\n",
       "      <td>1721</td>\n",
       "    </tr>\n",
       "    <tr>\n",
       "      <th>2021-11-10</th>\n",
       "      <td>AO</td>\n",
       "      <td>Angola</td>\n",
       "      <td>AFRO</td>\n",
       "      <td>38</td>\n",
       "      <td>64762</td>\n",
       "      <td>2</td>\n",
       "      <td>1723</td>\n",
       "    </tr>\n",
       "    <tr>\n",
       "      <th>2021-11-11</th>\n",
       "      <td>AO</td>\n",
       "      <td>Angola</td>\n",
       "      <td>AFRO</td>\n",
       "      <td>0</td>\n",
       "      <td>64762</td>\n",
       "      <td>0</td>\n",
       "      <td>1723</td>\n",
       "    </tr>\n",
       "    <tr>\n",
       "      <th>2021-11-12</th>\n",
       "      <td>AO</td>\n",
       "      <td>Angola</td>\n",
       "      <td>AFRO</td>\n",
       "      <td>95</td>\n",
       "      <td>64857</td>\n",
       "      <td>2</td>\n",
       "      <td>1725</td>\n",
       "    </tr>\n",
       "    <tr>\n",
       "      <th>2021-11-13</th>\n",
       "      <td>AO</td>\n",
       "      <td>Angola</td>\n",
       "      <td>AFRO</td>\n",
       "      <td>18</td>\n",
       "      <td>64875</td>\n",
       "      <td>1</td>\n",
       "      <td>1726</td>\n",
       "    </tr>\n",
       "    <tr>\n",
       "      <th>2021-11-14</th>\n",
       "      <td>AO</td>\n",
       "      <td>Angola</td>\n",
       "      <td>AFRO</td>\n",
       "      <td>24</td>\n",
       "      <td>64899</td>\n",
       "      <td>1</td>\n",
       "      <td>1727</td>\n",
       "    </tr>\n",
       "    <tr>\n",
       "      <th>2021-11-15</th>\n",
       "      <td>AO</td>\n",
       "      <td>Angola</td>\n",
       "      <td>AFRO</td>\n",
       "      <td>14</td>\n",
       "      <td>64913</td>\n",
       "      <td>0</td>\n",
       "      <td>1727</td>\n",
       "    </tr>\n",
       "    <tr>\n",
       "      <th>2021-11-16</th>\n",
       "      <td>AO</td>\n",
       "      <td>Angola</td>\n",
       "      <td>AFRO</td>\n",
       "      <td>0</td>\n",
       "      <td>64913</td>\n",
       "      <td>0</td>\n",
       "      <td>1727</td>\n",
       "    </tr>\n",
       "    <tr>\n",
       "      <th>2021-11-17</th>\n",
       "      <td>AO</td>\n",
       "      <td>Angola</td>\n",
       "      <td>AFRO</td>\n",
       "      <td>27</td>\n",
       "      <td>64940</td>\n",
       "      <td>2</td>\n",
       "      <td>1729</td>\n",
       "    </tr>\n",
       "    <tr>\n",
       "      <th>2021-11-18</th>\n",
       "      <td>AO</td>\n",
       "      <td>Angola</td>\n",
       "      <td>AFRO</td>\n",
       "      <td>28</td>\n",
       "      <td>64968</td>\n",
       "      <td>0</td>\n",
       "      <td>1729</td>\n",
       "    </tr>\n",
       "    <tr>\n",
       "      <th>2021-11-19</th>\n",
       "      <td>AO</td>\n",
       "      <td>Angola</td>\n",
       "      <td>AFRO</td>\n",
       "      <td>17</td>\n",
       "      <td>64985</td>\n",
       "      <td>0</td>\n",
       "      <td>1729</td>\n",
       "    </tr>\n",
       "  </tbody>\n",
       "</table>\n",
       "</div>"
      ],
      "text/plain": [
       "              Country_code Country WHO_region  New_cases  Cumulative_cases  \\\n",
       "Date_reported                                                                \n",
       "2021-11-02              AO  Angola       AFRO         25             64458   \n",
       "2021-11-03              AO  Angola       AFRO         29             64487   \n",
       "2021-11-04              AO  Angola       AFRO         46             64533   \n",
       "2021-11-05              AO  Angola       AFRO         50             64583   \n",
       "2021-11-06              AO  Angola       AFRO         29             64612   \n",
       "2021-11-07              AO  Angola       AFRO         42             64654   \n",
       "2021-11-08              AO  Angola       AFRO         20             64674   \n",
       "2021-11-09              AO  Angola       AFRO         50             64724   \n",
       "2021-11-10              AO  Angola       AFRO         38             64762   \n",
       "2021-11-11              AO  Angola       AFRO          0             64762   \n",
       "2021-11-12              AO  Angola       AFRO         95             64857   \n",
       "2021-11-13              AO  Angola       AFRO         18             64875   \n",
       "2021-11-14              AO  Angola       AFRO         24             64899   \n",
       "2021-11-15              AO  Angola       AFRO         14             64913   \n",
       "2021-11-16              AO  Angola       AFRO          0             64913   \n",
       "2021-11-17              AO  Angola       AFRO         27             64940   \n",
       "2021-11-18              AO  Angola       AFRO         28             64968   \n",
       "2021-11-19              AO  Angola       AFRO         17             64985   \n",
       "\n",
       "               New_deaths  Cumulative_deaths  \n",
       "Date_reported                                 \n",
       "2021-11-02              3               1713  \n",
       "2021-11-03              0               1713  \n",
       "2021-11-04              3               1716  \n",
       "2021-11-05              2               1718  \n",
       "2021-11-06              1               1719  \n",
       "2021-11-07              0               1719  \n",
       "2021-11-08              1               1720  \n",
       "2021-11-09              1               1721  \n",
       "2021-11-10              2               1723  \n",
       "2021-11-11              0               1723  \n",
       "2021-11-12              2               1725  \n",
       "2021-11-13              1               1726  \n",
       "2021-11-14              1               1727  \n",
       "2021-11-15              0               1727  \n",
       "2021-11-16              0               1727  \n",
       "2021-11-17              2               1729  \n",
       "2021-11-18              0               1729  \n",
       "2021-11-19              0               1729  "
      ]
     },
     "execution_count": 6,
     "metadata": {},
     "output_type": "execute_result"
    }
   ],
   "source": [
    "Covid_19 = pd.read_csv(\"WHO-COVID-19-global-data.csv\",index_col=0)\n",
    "Covid_19 = Covid_19[Covid_19['Country'] == 'Angola']\n",
    "Covid_19Nov = Covid_19.tail(18)\n",
    "Covid_19Nov"
   ]
  },
  {
   "cell_type": "code",
   "execution_count": 87,
   "metadata": {},
   "outputs": [],
   "source": [
    "Covid_19Nov = Covid_19.tail(18)\n"
   ]
  },
  {
   "cell_type": "code",
   "execution_count": 88,
   "metadata": {},
   "outputs": [
    {
     "data": {
      "image/png": "[encoded data removed]",
      "text/plain": [
       "<Figure size 432x288 with 1 Axes>"
      ]
     },
     "metadata": {
      "needs_background": "light"
     },
     "output_type": "display_data"
    }
   ],
   "source": [
    "X = np.arange(1,19).reshape(-1,1) \n",
    "y = Covid_19Nov['New_cases'].values\n",
    "plt.plot(y,'-r*')\n",
    "plt.show()"
   ]
  },
  {
   "cell_type": "markdown",
   "metadata": {},
   "source": [
    "## Using Polynomial of degree 4 to train the model"
   ]
  },
  {
   "cell_type": "code",
   "execution_count": 89,
   "metadata": {},
   "outputs": [
    {
     "data": {
      "text/plain": [
       "LinearRegression(copy_X=True, fit_intercept=True, n_jobs=None,\n",
       "         normalize=False)"
      ]
     },
     "execution_count": 89,
     "metadata": {},
     "output_type": "execute_result"
    }
   ],
   "source": [
    "poly = PolynomialFeatures(degree = 4 )\n",
    "Pt = poly.fit_transform(X)\n",
    "reg_model = LinearRegression()\n",
    "reg_model.fit(Pt, y)"
   ]
  },
  {
   "cell_type": "code",
   "execution_count": 90,
   "metadata": {},
   "outputs": [],
   "source": [
    "y_pred = reg_model.predict(Pt).round()"
   ]
  },
  {
   "cell_type": "code",
   "execution_count": 91,
   "metadata": {},
   "outputs": [
    {
     "name": "stdout",
     "output_type": "stream",
     "text": [
      "Accuracy =  18.039362971442774 %\n"
     ]
    }
   ],
   "source": [
    "accuracy = reg_model.score(Pt,y)\n",
    "print('Accuracy = ',accuracy*100,'%')"
   ]
  },
  {
   "cell_type": "code",
   "execution_count": 92,
   "metadata": {},
   "outputs": [
    {
     "data": {
      "image/png": "[encoded data removed]",
      "text/plain": [
       "<Figure size 432x288 with 1 Axes>"
      ]
     },
     "metadata": {
      "needs_background": "light"
     },
     "output_type": "display_data"
    }
   ],
   "source": [
    "plt.plot(y_pred,'-g')\n",
    "plt.show()"
   ]
  },
  {
   "cell_type": "code",
   "execution_count": 93,
   "metadata": {},
   "outputs": [],
   "source": [
    "df = pd.DataFrame([y_pred,y])\n"
   ]
  },
  {
   "cell_type": "code",
   "execution_count": 94,
   "metadata": {},
   "outputs": [
    {
     "data": {
      "text/plain": [
       "array([ 69., 108.])"
      ]
     },
     "execution_count": 94,
     "metadata": {},
     "output_type": "execute_result"
    }
   ],
   "source": [
    "\n",
    "y_pred = reg_model.predict(poly.fit_transform(np.array([20,21]).reshape(-1,1))).round()\n",
    "y_pred"
   ]
  },
  {
   "cell_type": "code",
   "execution_count": null,
   "metadata": {},
   "outputs": [],
   "source": []
  },
  {
   "cell_type": "markdown",
   "metadata": {},
   "source": [
    "# Using Ridge Regression "
   ]
  },
  {
   "cell_type": "code",
   "execution_count": 95,
   "metadata": {},
   "outputs": [
    {
     "data": {
      "text/plain": [
       "Ridge(alpha=0.5, copy_X=True, fit_intercept=True, max_iter=None,\n",
       "   normalize=False, random_state=None, solver='auto', tol=0.001)"
      ]
     },
     "execution_count": 95,
     "metadata": {},
     "output_type": "execute_result"
    }
   ],
   "source": [
    "X_train, X_test, y_train, y_test = train_test_split(X, y, test_size=0.3, random_state=0)\n",
    "ridgeR = linear_model.Ridge(alpha = 0.5)  \n",
    "ridgeR.fit(X_train, y_train)"
   ]
  },
  {
   "cell_type": "code",
   "execution_count": 96,
   "metadata": {},
   "outputs": [
    {
     "name": "stdout",
     "output_type": "stream",
     "text": [
      "   Actual  Predicted\n",
      "0      25       45.0\n",
      "1      42       39.0\n",
      "2      50       36.0\n",
      "3       0       33.0\n",
      "4      14       28.0\n",
      "5      50       41.0\n"
     ]
    }
   ],
   "source": [
    "y_pre = ridgeR.predict(X_test)\n",
    "df = pd.DataFrame({'Actual': y_test.flatten(), 'Predicted': y_pre.flatten().round()})\n",
    "print(df)"
   ]
  },
  {
   "cell_type": "code",
   "execution_count": 97,
   "metadata": {},
   "outputs": [
    {
     "data": {
      "text/plain": [
       "array([21., 20.])"
      ]
     },
     "execution_count": 97,
     "metadata": {},
     "output_type": "execute_result"
    }
   ],
   "source": [
    "y_pre = ridgeR.predict(np.array([20,21]).reshape(-1, 1)).round()\n",
    "y_pre.flatten()"
   ]
  },
  {
   "cell_type": "markdown",
   "metadata": {},
   "source": [
    "# Using LASSO Regression \n"
   ]
  },
  {
   "cell_type": "code",
   "execution_count": 98,
   "metadata": {},
   "outputs": [],
   "source": [
    "model = Lasso(alpha=1.0)  \n",
    "model.fit(X, y)\n",
    "cv = RepeatedKFold(n_splits=10, n_repeats=3, random_state=1)"
   ]
  },
  {
   "cell_type": "code",
   "execution_count": 99,
   "metadata": {},
   "outputs": [
    {
     "name": "stdout",
     "output_type": "stream",
     "text": [
      "Mean MAE: 18.361 (15.755)\n"
     ]
    },
    {
     "data": {
      "text/html": [
       "<div>\n",
       "<style scoped>\n",
       "    .dataframe tbody tr th:only-of-type {\n",
       "        vertical-align: middle;\n",
       "    }\n",
       "\n",
       "    .dataframe tbody tr th {\n",
       "        vertical-align: top;\n",
       "    }\n",
       "\n",
       "    .dataframe thead th {\n",
       "        text-align: right;\n",
       "    }\n",
       "</style>\n",
       "<table border=\"1\" class=\"dataframe\">\n",
       "  <thead>\n",
       "    <tr style=\"text-align: right;\">\n",
       "      <th></th>\n",
       "      <th>Actual</th>\n",
       "      <th>Predicted</th>\n",
       "    </tr>\n",
       "  </thead>\n",
       "  <tbody>\n",
       "    <tr>\n",
       "      <th>0</th>\n",
       "      <td>25</td>\n",
       "      <td>43.0</td>\n",
       "    </tr>\n",
       "    <tr>\n",
       "      <th>1</th>\n",
       "      <td>42</td>\n",
       "      <td>36.0</td>\n",
       "    </tr>\n",
       "    <tr>\n",
       "      <th>2</th>\n",
       "      <td>50</td>\n",
       "      <td>34.0</td>\n",
       "    </tr>\n",
       "    <tr>\n",
       "      <th>3</th>\n",
       "      <td>0</td>\n",
       "      <td>31.0</td>\n",
       "    </tr>\n",
       "    <tr>\n",
       "      <th>4</th>\n",
       "      <td>14</td>\n",
       "      <td>26.0</td>\n",
       "    </tr>\n",
       "    <tr>\n",
       "      <th>5</th>\n",
       "      <td>50</td>\n",
       "      <td>39.0</td>\n",
       "    </tr>\n",
       "  </tbody>\n",
       "</table>\n",
       "</div>"
      ],
      "text/plain": [
       "   Actual  Predicted\n",
       "0      25       43.0\n",
       "1      42       36.0\n",
       "2      50       34.0\n",
       "3       0       31.0\n",
       "4      14       26.0\n",
       "5      50       39.0"
      ]
     },
     "execution_count": 99,
     "metadata": {},
     "output_type": "execute_result"
    }
   ],
   "source": [
    "scores = cross_val_score(model, X, y, scoring='neg_mean_absolute_error', cv=cv, n_jobs=-1)\n",
    "scores = absolute(scores)\n",
    "print('Mean MAE: %.3f (%.3f)' % (mean(scores), std(scores)))\n",
    "yl_pre = model.predict(X_test)\n",
    "df = pd.DataFrame({'Actual': y_test.flatten(), 'Predicted': yl_pre.flatten().round()})\n",
    "df"
   ]
  },
  {
   "cell_type": "code",
   "execution_count": 100,
   "metadata": {},
   "outputs": [
    {
     "data": {
      "text/plain": [
       "array([19., 17.])"
      ]
     },
     "execution_count": 100,
     "metadata": {},
     "output_type": "execute_result"
    }
   ],
   "source": [
    "yl_pre = model.predict(np.array([20,21]).reshape(-1, 1)).round()\n",
    "yl_pre.flatten()"
   ]
  },
  {
   "cell_type": "code",
   "execution_count": null,
   "metadata": {},
   "outputs": [],
   "source": []
  },
  {
   "cell_type": "code",
   "execution_count": null,
   "metadata": {},
   "outputs": [],
   "source": []
  },
  {
   "cell_type": "markdown",
   "metadata": {},
   "source": [
    "## Question I \n",
    "#### (b) Considering the available data for 2021, what is the predicted average number of New_deaths for the whole of Africa for November 20, 2021 and November 21, 2021?"
   ]
  },
  {
   "cell_type": "code",
   "execution_count": 101,
   "metadata": {},
   "outputs": [],
   "source": [
    "Covid19 = pd.read_csv(\"WHO-COVID-19-global-data.csv\")"
   ]
  },
  {
   "cell_type": "code",
   "execution_count": 102,
   "metadata": {},
   "outputs": [],
   "source": [
    "A =np.unique(Covid19.WHO_region)[0]"
   ]
  },
  {
   "cell_type": "code",
   "execution_count": 103,
   "metadata": {},
   "outputs": [],
   "source": [
    "Cov_af = Covid19[Covid19[\"WHO_region\"]==A]"
   ]
  },
  {
   "cell_type": "markdown",
   "metadata": {},
   "source": [
    "# Using Ridge Regression "
   ]
  },
  {
   "cell_type": "code",
   "execution_count": 104,
   "metadata": {},
   "outputs": [
    {
     "data": {
      "image/png": "[encoded data removed]",
      "text/plain": [
       "<Figure size 432x288 with 1 Axes>"
      ]
     },
     "metadata": {
      "needs_background": "light"
     },
     "output_type": "display_data"
    }
   ],
   "source": [
    "X1 = np.arange(1,Cov_af.shape[0]+1).reshape(-1,1) \n",
    "y1 = Cov_af['New_deaths'].values\n",
    "plt.plot(y1,'-r*')\n",
    "plt.show()"
   ]
  },
  {
   "cell_type": "code",
   "execution_count": 105,
   "metadata": {},
   "outputs": [
    {
     "data": {
      "text/plain": [
       "Ridge(alpha=0.1, copy_X=True, fit_intercept=True, max_iter=None,\n",
       "   normalize=False, random_state=None, solver='auto', tol=0.001)"
      ]
     },
     "execution_count": 105,
     "metadata": {},
     "output_type": "execute_result"
    }
   ],
   "source": [
    "X1_train, X1_test, y1_train, y1_test = train_test_split(X1, y1, test_size=0.3, random_state=0)\n",
    "ridgeRR = linear_model.Ridge(alpha = 0.1)  \n",
    "ridgeRR.fit(X1_train, y1_train)"
   ]
  },
  {
   "cell_type": "code",
   "execution_count": 106,
   "metadata": {},
   "outputs": [],
   "source": [
    "y1_pre = ridgeRR.predict(X1_test)\n",
    "df = pd.DataFrame({'Actual': y1_test.flatten(), 'Predicted': y1_pre.flatten().round()})"
   ]
  },
  {
   "cell_type": "code",
   "execution_count": 107,
   "metadata": {},
   "outputs": [
    {
     "data": {
      "text/plain": [
       "array([11., 11.])"
      ]
     },
     "execution_count": 107,
     "metadata": {},
     "output_type": "execute_result"
    }
   ],
   "source": [
    "y1_pre = ridgeRR.predict(np.array([34302,34303]).reshape(-1, 1)).round()\n",
    "y1_pre.flatten()"
   ]
  },
  {
   "cell_type": "markdown",
   "metadata": {},
   "source": [
    "## Using Polynomial of degree 4 to train the model"
   ]
  },
  {
   "cell_type": "code",
   "execution_count": 108,
   "metadata": {},
   "outputs": [
    {
     "data": {
      "text/plain": [
       "LinearRegression(copy_X=True, fit_intercept=True, n_jobs=None,\n",
       "         normalize=False)"
      ]
     },
     "execution_count": 108,
     "metadata": {},
     "output_type": "execute_result"
    }
   ],
   "source": [
    "poly1 = PolynomialFeatures(degree = 4 )\n",
    "P = poly1.fit_transform(X1)\n",
    "reg_model1 = LinearRegression()\n",
    "reg_model1.fit(P, y1)"
   ]
  },
  {
   "cell_type": "code",
   "execution_count": 109,
   "metadata": {},
   "outputs": [],
   "source": [
    "y1_pred = reg_model1.predict(P).round()"
   ]
  },
  {
   "cell_type": "code",
   "execution_count": 110,
   "metadata": {},
   "outputs": [
    {
     "name": "stdout",
     "output_type": "stream",
     "text": [
      "Accuracy =  2.381452161201314 %\n"
     ]
    }
   ],
   "source": [
    "accur = reg_model1.score(P,y1)\n",
    "print('Accuracy = ',accur*100,'%')"
   ]
  },
  {
   "cell_type": "code",
   "execution_count": 111,
   "metadata": {},
   "outputs": [
    {
     "data": {
      "image/png": "[encoded data removed]",
      "text/plain": [
       "<Figure size 432x288 with 1 Axes>"
      ]
     },
     "metadata": {
      "needs_background": "light"
     },
     "output_type": "display_data"
    }
   ],
   "source": [
    "plt.plot(y1_pred,'-g')\n",
    "plt.show()"
   ]
  },
  {
   "cell_type": "code",
   "execution_count": 112,
   "metadata": {},
   "outputs": [
    {
     "data": {
      "text/plain": [
       "array([10., 10.])"
      ]
     },
     "execution_count": 112,
     "metadata": {},
     "output_type": "execute_result"
    }
   ],
   "source": [
    "y1_pred = reg_model1.predict(poly1.fit_transform(np.array([34302,34303]).reshape(-1,1))).round()\n",
    "y1_pred"
   ]
  },
  {
   "cell_type": "code",
   "execution_count": null,
   "metadata": {},
   "outputs": [],
   "source": []
  },
  {
   "cell_type": "markdown",
   "metadata": {},
   "source": [
    "# Question II"
   ]
  },
  {
   "cell_type": "markdown",
   "metadata": {},
   "source": [
    "### a) Upload this data set and replace non-number data with a reasonable numerical representation\n"
   ]
  },
  {
   "cell_type": "code",
   "execution_count": 113,
   "metadata": {},
   "outputs": [],
   "source": [
    "SAheart = pd.read_csv(\"SAheart.data.csv\")"
   ]
  },
  {
   "cell_type": "code",
   "execution_count": 114,
   "metadata": {},
   "outputs": [],
   "source": [
    "SAheart = SAheart.replace({'famhist': {'Present': 1,'Absent': 0}})"
   ]
  },
  {
   "cell_type": "code",
   "execution_count": 115,
   "metadata": {},
   "outputs": [],
   "source": [
    "#pd.get_dummies(SAheart, columns=['famhist'])"
   ]
  },
  {
   "cell_type": "markdown",
   "metadata": {},
   "source": [
    "# b) Train a logistic regressor to tell if a patient has high risk of CHD or not.\n"
   ]
  },
  {
   "cell_type": "code",
   "execution_count": 116,
   "metadata": {},
   "outputs": [],
   "source": [
    "X=SAheart[['sbp', 'tobacco', 'ldl', 'adiposity', 'famhist', 'typea', 'obesity','alcohol','age']].values\n",
    "y=SAheart['chd'].values\n",
    "X_train,X_test,y_train,y_test=train_test_split(X,y,test_size=0.30,random_state=0)\n"
   ]
  },
  {
   "cell_type": "code",
   "execution_count": 117,
   "metadata": {},
   "outputs": [],
   "source": [
    "log_reg = LogisticRegression(random_state = 0, solver='lbfgs', multi_class='auto')\n",
    "log_reg.fit(X_train,y_train)\n",
    "y_pred = log_reg.predict(X_test)"
   ]
  },
  {
   "cell_type": "code",
   "execution_count": 118,
   "metadata": {},
   "outputs": [
    {
     "data": {
      "text/html": [
       "<div>\n",
       "<style scoped>\n",
       "    .dataframe tbody tr th:only-of-type {\n",
       "        vertical-align: middle;\n",
       "    }\n",
       "\n",
       "    .dataframe tbody tr th {\n",
       "        vertical-align: top;\n",
       "    }\n",
       "\n",
       "    .dataframe thead th {\n",
       "        text-align: right;\n",
       "    }\n",
       "</style>\n",
       "<table border=\"1\" class=\"dataframe\">\n",
       "  <thead>\n",
       "    <tr style=\"text-align: right;\">\n",
       "      <th></th>\n",
       "      <th>Test</th>\n",
       "      <th>Predicted</th>\n",
       "      <th>0</th>\n",
       "      <th>1</th>\n",
       "    </tr>\n",
       "  </thead>\n",
       "  <tbody>\n",
       "    <tr>\n",
       "      <th>81</th>\n",
       "      <td>1</td>\n",
       "      <td>0</td>\n",
       "      <td>0.83</td>\n",
       "      <td>0.17</td>\n",
       "    </tr>\n",
       "    <tr>\n",
       "      <th>52</th>\n",
       "      <td>1</td>\n",
       "      <td>1</td>\n",
       "      <td>0.07</td>\n",
       "      <td>0.93</td>\n",
       "    </tr>\n",
       "    <tr>\n",
       "      <th>54</th>\n",
       "      <td>0</td>\n",
       "      <td>0</td>\n",
       "      <td>0.93</td>\n",
       "      <td>0.07</td>\n",
       "    </tr>\n",
       "    <tr>\n",
       "      <th>83</th>\n",
       "      <td>1</td>\n",
       "      <td>0</td>\n",
       "      <td>0.52</td>\n",
       "      <td>0.48</td>\n",
       "    </tr>\n",
       "    <tr>\n",
       "      <th>118</th>\n",
       "      <td>1</td>\n",
       "      <td>1</td>\n",
       "      <td>0.20</td>\n",
       "      <td>0.80</td>\n",
       "    </tr>\n",
       "    <tr>\n",
       "      <th>26</th>\n",
       "      <td>1</td>\n",
       "      <td>0</td>\n",
       "      <td>0.66</td>\n",
       "      <td>0.34</td>\n",
       "    </tr>\n",
       "    <tr>\n",
       "      <th>49</th>\n",
       "      <td>0</td>\n",
       "      <td>1</td>\n",
       "      <td>0.29</td>\n",
       "      <td>0.71</td>\n",
       "    </tr>\n",
       "    <tr>\n",
       "      <th>89</th>\n",
       "      <td>0</td>\n",
       "      <td>0</td>\n",
       "      <td>0.62</td>\n",
       "      <td>0.38</td>\n",
       "    </tr>\n",
       "    <tr>\n",
       "      <th>75</th>\n",
       "      <td>0</td>\n",
       "      <td>0</td>\n",
       "      <td>0.85</td>\n",
       "      <td>0.15</td>\n",
       "    </tr>\n",
       "    <tr>\n",
       "      <th>32</th>\n",
       "      <td>1</td>\n",
       "      <td>0</td>\n",
       "      <td>0.86</td>\n",
       "      <td>0.14</td>\n",
       "    </tr>\n",
       "  </tbody>\n",
       "</table>\n",
       "</div>"
      ],
      "text/plain": [
       "     Test  Predicted     0     1\n",
       "81      1          0  0.83  0.17\n",
       "52      1          1  0.07  0.93\n",
       "54      0          0  0.93  0.07\n",
       "83      1          0  0.52  0.48\n",
       "118     1          1  0.20  0.80\n",
       "26      1          0  0.66  0.34\n",
       "49      0          1  0.29  0.71\n",
       "89      0          0  0.62  0.38\n",
       "75      0          0  0.85  0.15\n",
       "32      1          0  0.86  0.14"
      ]
     },
     "execution_count": 118,
     "metadata": {},
     "output_type": "execute_result"
    }
   ],
   "source": [
    "pr_y=log_reg.predict_proba(X_test) \n",
    "pr_y = np.round(pr_y, 2)\n",
    "result = pd.DataFrame(pr_y, columns= np.unique(SAheart.chd))\n",
    "predictedt_index = [np.argmax(result.iloc[i,:]) for i in range(result.shape[0])]\n",
    "predicted_Status =[np.unique(SAheart.chd)[i] for i in predictedt_index]\n",
    "result.insert(loc=0, column=\"Test\", value=y_test)\n",
    "result.insert(loc=1, column ='Predicted', value=predicted_Status)\n",
    "result.sample(10)"
   ]
  },
  {
   "cell_type": "code",
   "execution_count": 119,
   "metadata": {},
   "outputs": [
    {
     "data": {
      "image/png": "[encoded data removed]",
      "text/plain": [
       "<Figure size 432x288 with 2 Axes>"
      ]
     },
     "metadata": {
      "needs_background": "light"
     },
     "output_type": "display_data"
    }
   ],
   "source": [
    "con_mat = confusion_matrix(y_test,y_pred)\n",
    "sns.heatmap(con_mat, annot=True, annot_kws={\"size\": 15},cmap=\"summer_r\", xticklabels=np.unique(SAheart.chd),\n",
    "           yticklabels=np.unique(SAheart.chd))\n",
    "plt.title(\"Confusion Matrix of the classifier\")\n",
    "plt.ylabel('Actual labels')\n",
    "plt.xlabel('Predicted labels')\n",
    "plt.show()"
   ]
  },
  {
   "cell_type": "code",
   "execution_count": 120,
   "metadata": {},
   "outputs": [
    {
     "name": "stdout",
     "output_type": "stream",
     "text": [
      "Accuracy: 70.50359712230215 %\n"
     ]
    }
   ],
   "source": [
    "print(\"Accuracy:\",accuracy_score(y_test, y_pred)*100,'%')"
   ]
  },
  {
   "cell_type": "markdown",
   "metadata": {},
   "source": [
    "#### c) Identify if the a patient with the following data is of high risk or not $x = [133, 3.3, 4.6, 34.5, present, 52, 30, 32, 20, 44].$"
   ]
  },
  {
   "cell_type": "code",
   "execution_count": 121,
   "metadata": {},
   "outputs": [
    {
     "data": {
      "text/plain": [
       "array([0])"
      ]
     },
     "execution_count": 121,
     "metadata": {},
     "output_type": "execute_result"
    }
   ],
   "source": [
    "y_pred = log_reg.predict(np.array([[133, 3.3, 4.6, 34.5, 1, 52, 30, 32,44]]))\n",
    "y_pred.flatten()"
   ]
  },
  {
   "cell_type": "markdown",
   "metadata": {},
   "source": [
    "#### d) Which are the most determinant factors for heart disease?"
   ]
  },
  {
   "cell_type": "code",
   "execution_count": 122,
   "metadata": {},
   "outputs": [
    {
     "data": {
      "text/plain": [
       "array([[-0.012796  ,  0.10875657,  0.12803057,  0.08136055,  0.88152047,\n",
       "         0.0283967 , -0.19361682, -0.00259573,  0.03150325]])"
      ]
     },
     "execution_count": 122,
     "metadata": {},
     "output_type": "execute_result"
    }
   ],
   "source": [
    "log_reg.coef_"
   ]
  },
  {
   "cell_type": "markdown",
   "metadata": {},
   "source": [
    "### i. famhist \n",
    "### ii. tobacco\n",
    "### iii. ldl\n",
    "### iv.  sbp\n",
    "### v. obesity"
   ]
  },
  {
   "cell_type": "markdown",
   "metadata": {},
   "source": [
    "#### e) Does having a family history of coronary heart disease affect a patients chance of having coronary heart disease?"
   ]
  },
  {
   "cell_type": "markdown",
   "metadata": {},
   "source": [
    "### YES"
   ]
  },
  {
   "cell_type": "code",
   "execution_count": null,
   "metadata": {},
   "outputs": [],
   "source": []
  },
  {
   "cell_type": "code",
   "execution_count": null,
   "metadata": {},
   "outputs": [],
   "source": []
  }
 ],
 "metadata": {
  "kernelspec": {
   "display_name": "Python 3 (ipykernel)",
   "language": "python",
   "name": "python3"
  },
  "language_info": {
   "codemirror_mode": {
    "name": "ipython",
    "version": 3
   },
   "file_extension": ".py",
   "mimetype": "text/x-python",
   "name": "python",
   "nbconvert_exporter": "python",
   "pygments_lexer": "ipython3",
   "version": "3.9.7"
  }
 },
 "nbformat": 4,
 "nbformat_minor": 2
}
