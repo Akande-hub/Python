{
 "cells": [
  {
   "cell_type": "markdown",
   "metadata": {},
   "source": [
    "## Numerical Linear Algebra"
   ]
  },
  {
   "cell_type": "code",
   "execution_count": 19,
   "metadata": {},
   "outputs": [],
   "source": [
    "import numpy as np\n",
    "import matplotlib.pyplot as plt\n",
    "import math\n",
    "from sympy import Matrix\n",
    "from sympy import init_printing"
   ]
  },
  {
   "cell_type": "markdown",
   "metadata": {},
   "source": [
    "# Question Four"
   ]
  },
  {
   "cell_type": "code",
   "execution_count": 20,
   "metadata": {},
   "outputs": [],
   "source": [
    "x_i = Matrix([[1,1.001],[1,1.002],[1,1.003],[1,1.004],[1,1.005],[1,1.006],[1,1.007]])\n",
    "y_i = Matrix([3.665,3.789,3.891,4.022,4.233,5.200,5.329])"
   ]
  },
  {
   "cell_type": "markdown",
   "metadata": {},
   "source": [
    "## To Obtain the inverse of $X^T X$"
   ]
  },
  {
   "cell_type": "code",
   "execution_count": 21,
   "metadata": {},
   "outputs": [
    {
     "data": {
      "text/latex": [
       "$\\displaystyle \\left[\\begin{matrix}36000.71428525 & -35857.1428566805\\\\-35857.1428566805 & 35714.2857138252\\end{matrix}\\right]$"
      ],
      "text/plain": [
       "Matrix([\n",
       "[   36000.71428525, -35857.1428566805],\n",
       "[-35857.1428566805,  35714.2857138252]])"
      ]
     },
     "execution_count": 21,
     "metadata": {},
     "output_type": "execute_result"
    }
   ],
   "source": [
    "x_inver = (x_i.T @ x_i).inv()\n",
    "x_inver"
   ]
  },
  {
   "cell_type": "markdown",
   "metadata": {},
   "source": [
    " ## To compute for the $\\infty  - norm$  of  $x_i^Tx_i$ and  ∞−norm of $(x_i^Tx_i)^{-1}$  "
   ]
  },
  {
   "cell_type": "markdown",
   "metadata": {},
   "source": [
    "## $X1 =  \\|x_i^Tx_i \\|_{\\infty} $ ,\n",
    "## $X2 =  \\|(x_i^Tx_i)^{-1} \\|_{\\infty} $\n",
    "## $X3 = \\|x_i^Tx_i \\|_{\\infty} \\|(x_i^Tx_i)^{-1} \\|_{\\infty} $"
   ]
  },
  {
   "cell_type": "code",
   "execution_count": 25,
   "metadata": {},
   "outputs": [
    {
     "data": {
      "text/latex": [
       "$\\displaystyle 1012056.12008695$"
      ],
      "text/plain": [
       "1012056.12008695"
      ]
     },
     "execution_count": 25,
     "metadata": {},
     "output_type": "execute_result"
    }
   ],
   "source": [
    "X1 = np.linalg.norm(x_i.T @ x_i,np.inf)\n",
    "X2 = np.linalg.norm(x_inver,np.inf)\n",
    "X3 = X1*X2\n",
    "X3"
   ]
  },
  {
   "cell_type": "markdown",
   "metadata": {},
   "source": [
    "#### Since,the condition number is large, then the linear system is ill conditioned and no matter what algorithm we use to solve it, small errors in the calculations will amplify and cause large errors in the system."
   ]
  },
  {
   "cell_type": "markdown",
   "metadata": {},
   "source": [
    " #### Given that $$X^T X\n",
    "\\begin{pmatrix} m \\\\ b \\end{pmatrix}= X^T Y \\\\\n",
    "\\begin{pmatrix} m \\\\ b \\end{pmatrix} = (X^T X)^{-1}X^T Y $$"
   ]
  },
  {
   "cell_type": "code",
   "execution_count": 26,
   "metadata": {},
   "outputs": [],
   "source": [
    "m,b = x_inver * (x_i.T @ y_i)"
   ]
  },
  {
   "cell_type": "code",
   "execution_count": 27,
   "metadata": {},
   "outputs": [
    {
     "name": "stdout",
     "output_type": "stream",
     "text": [
      "The coefficient of the system are: -288.146714282222 and 291.285714281956\n"
     ]
    }
   ],
   "source": [
    "print(f'The coefficient of the system are: {m} and {b}')"
   ]
  },
  {
   "cell_type": "code",
   "execution_count": null,
   "metadata": {},
   "outputs": [],
   "source": []
  },
  {
   "cell_type": "markdown",
   "metadata": {},
   "source": [
    "# Question Five\n"
   ]
  },
  {
   "cell_type": "markdown",
   "metadata": {},
   "source": [
    "<!-- \n",
    "Finding the angle of rotation of the ellipse's axes with respect to the x-y coordinate plane.\n",
    "\n",
    "$$\\theta = \\frac{1}{2} tan^{-1}(\\frac{b}{-1 - a})$$\n",
    "\n",
    "Transforming the equation we have,\n",
    "\n",
    "$$a'x'^2+b'y'^2+c'x+d'y'+e=0$$\n",
    "\n",
    "where,\n",
    "\n",
    "$$a'=-cos^2(\\theta)+bsin(\\theta)cos(\\theta)+asin^2(\\theta)$$\n",
    "\n",
    "$$b'=-sin^2(\\theta)-bsin(\\theta)cos(\\theta)+acos^2(\\theta)$$\n",
    "\n",
    "$$c'=ccos(\\theta)+dsin(\\theta)$$\n",
    "\n",
    "$$d'=-csin(\\theta)+dcos(\\theta)$$\n",
    "\n",
    "$$e'=e$$\n",
    "\n",
    "Finding the (nearly) standard form of the ellipse, we  complete the squares for the x' and y' portions , then rearrange the equation slightly:\n",
    "\n",
    "$$\\frac{(x'-h)^2}{a''^2}+\\frac{(y'-k)^2}{b''^2}=c''$$\n",
    "\n",
    "where,\n",
    "\n",
    "$$a''=\\frac{1}{\\sqrt{a'}}$$\n",
    "\n",
    "$$b''=\\frac{1}{\\sqrt{b'}}$$\n",
    "\n",
    "$$c''=\\frac{c'^2}{4a'}+\\frac{d'^2}{4b'}-e'$$\n",
    "\n",
    "$$h=-\\frac{c'}{2a'}$$\n",
    "\n",
    "$$k=-\\frac{d'}{2b'}$$\n",
    "\n",
    "Since, we know the values of \\theta, we can now parametrize the equations for x' and y':\n",
    "\n",
    "$$x'=h+a''\\sqrt{c''}sin(t)$$\n",
    "\n",
    "$$y'=k+b''\\sqrt{c''}cos(t)$$\n",
    "\n",
    "Then,rotate it back into normal x-y space using this formulas below.\n",
    "\n",
    "$$x=x'cos(\\theta)-y'sin(\\theta)$$\n",
    "&\n",
    "$$y=x'sin(\\theta)+y'cos(\\theta)$$ -->"
   ]
  },
  {
   "cell_type": "code",
   "execution_count": 28,
   "metadata": {},
   "outputs": [],
   "source": [
    "import numpy as np\n",
    "import matplotlib.pyplot as plt\n",
    "from scipy.optimize import curve_fit\n",
    "from sympy import *"
   ]
  },
  {
   "cell_type": "code",
   "execution_count": 29,
   "metadata": {},
   "outputs": [
    {
     "name": "stdout",
     "output_type": "stream",
     "text": [
      "constant a =  -2.635625483712115\n",
      "constant b =  0.1436461825988976\n",
      "constant c =  0.5514469631403572\n",
      "constant d =  3.2229403381059027\n",
      "constant e =  -0.43289427026445104\n"
     ]
    },
    {
     "name": "stderr",
     "output_type": "stream",
     "text": [
      "/usr/lib/python3/dist-packages/ipykernel_launcher.py:17: FutureWarning: `rcond` parameter will change to the default of machine precision times ``max(M, N)`` where M and N are the input matrix dimensions.\n",
      "To use the future default and silence this warning we advise to pass `rcond=None`, to keep using the old, explicitly pass `rcond=-1`.\n"
     ]
    }
   ],
   "source": [
    "x = [1.02, 0.95, 0.87, 0.77, 0.67, 0.56, 0.44, 0.30, 0.16, 0.01]\n",
    "y = [0.39, 0.32, 0.27, 0.22, 0.18, 0.15, 0.13, 0.12, 0.13, 0.15]\n",
    "b = [i ** 2 for i in x]\n",
    "listk = [] \n",
    "def function(): \n",
    "    for i in range(len(x)):\n",
    "        w = [0] * 5\n",
    "        w[0] = y[i] ** 2\n",
    "        w[1] = x[i] * y[i]\n",
    "        w[2] = x[i]\n",
    "        w[3] = y[i]\n",
    "        w[4] = 1\n",
    "        listk.append(w)\n",
    "    return listk\n",
    "\n",
    "function()\n",
    "t = np.linalg.lstsq(listk,b)[0]\n",
    "print('constant a = ', t[0])\n",
    "print('constant b = ', t[1])\n",
    "print('constant c = ', t[2])\n",
    "print('constant d = ', t[3])\n",
    "print('constant e = ', t[4])\n",
    "\n",
    "def func(x,y,a,b,c,d,e):\n",
    "    y=a*y**2-b*x*y-c*x-d*y-e-x**2\n",
    "    return y"
   ]
  },
  {
   "cell_type": "markdown",
   "metadata": {},
   "source": [
    "# 2."
   ]
  },
  {
   "cell_type": "code",
   "execution_count": 30,
   "metadata": {},
   "outputs": [
    {
     "name": "stdout",
     "output_type": "stream",
     "text": [
      "[ 2.08455257  1.13928979  2.25575877 -5.98586495  1.39832582  2.13137231]\n"
     ]
    },
    {
     "data": {
      "image/png": "[encoded data removed]",
      "text/plain": [
       "<Figure size 432x288 with 1 Axes>"
      ]
     },
     "metadata": {
      "needs_background": "light"
     },
     "output_type": "display_data"
    }
   ],
   "source": [
    "cur,_ =curve_fit(func,x,y)\n",
    "print(cur)\n",
    "l = np.linspace(0,1, 1000)\n",
    "plt.plot(x,y,\"b+\")\n",
    "plt.plot(l,func(l,*cur),\"g\")\n",
    "plt.xlabel(\"x\")\n",
    "plt.ylabel(\"y\")\n",
    "# plt.legend()\n",
    "plt.show()"
   ]
  },
  {
   "cell_type": "code",
   "execution_count": null,
   "metadata": {},
   "outputs": [],
   "source": []
  },
  {
   "cell_type": "code",
   "execution_count": null,
   "metadata": {},
   "outputs": [],
   "source": []
  }
 ],
 "metadata": {
  "kernelspec": {
   "display_name": "Python 3 (ipykernel)",
   "language": "python",
   "name": "python3"
  },
  "language_info": {
   "codemirror_mode": {
    "name": "ipython",
    "version": 3
   },
   "file_extension": ".py",
   "mimetype": "text/x-python",
   "name": "python",
   "nbconvert_exporter": "python",
   "pygments_lexer": "ipython3",
   "version": "3.9.7"
  }
 },
 "nbformat": 4,
 "nbformat_minor": 2
}
